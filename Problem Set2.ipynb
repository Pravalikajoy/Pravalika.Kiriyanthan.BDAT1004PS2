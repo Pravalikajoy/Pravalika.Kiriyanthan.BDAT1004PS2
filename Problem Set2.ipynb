{
 "cells": [
  {
   "cell_type": "markdown",
   "id": "ca6079d5",
   "metadata": {},
   "source": [
    "# Question 1:"
   ]
  },
  {
   "cell_type": "code",
   "execution_count": 1,
   "id": "e9c24774",
   "metadata": {},
   "outputs": [
    {
     "data": {
      "text/plain": [
       "6"
      ]
     },
     "execution_count": 1,
     "metadata": {},
     "output_type": "execute_result"
    }
   ],
   "source": [
    "b = 0\n",
    "\n",
    "def r():\n",
    "    \n",
    "    global b\n",
    "    \n",
    "    b = d(b)\n",
    "    \n",
    "def d(b):\n",
    "    \n",
    "    return b + 2\n",
    "\n",
    "r()\n",
    "\n",
    "r()\n",
    "\n",
    "r()\n",
    "\n",
    "b"
   ]
  },
  {
   "cell_type": "markdown",
   "id": "46fb2cc8",
   "metadata": {},
   "source": [
    "## EXPLANATION \n",
    "As we define 'a' as the global variable, the changes we make in the function would also affect the changes outside the function.\n",
    "In the first time a's value will be 0 so in d(b), it will return 0+2=2 then global b's value will be 2\n",
    "In the second time a's value will be 2 so in d(b), it will return 2+2=4 then global b's value will be 4\n",
    "In the third time a's value will be 4 so in d(b), it will return 4+2=6 then global b's value will be 6\n",
    "b=6  # Here global namespace a is being referred, so value is 6.\n",
    "Thus, everytime r() is getting executed, global b is getting changed,so b's value will be 6."
   ]
  },
  {
   "cell_type": "markdown",
   "id": "5f2bb8c3",
   "metadata": {},
   "source": [
    "# Question 2:"
   ]
  },
  {
   "cell_type": "code",
   "execution_count": 2,
   "id": "7b38f0cb",
   "metadata": {},
   "outputs": [
    {
     "name": "stdout",
     "output_type": "stream",
     "text": [
      "123\n",
      "File Filelengt.txt not found.\n"
     ]
    }
   ],
   "source": [
    "def fileLen(fileName):\n",
    "    \n",
    "    try:\n",
    "        \n",
    "        infile=open(fileName)\n",
    "        \n",
    "        data=infile.read()\n",
    "        \n",
    "        ln=len(data)\n",
    "        \n",
    "        infile.close()\n",
    "        \n",
    "        print(ln)\n",
    "        \n",
    "    except IOError:\n",
    "        \n",
    "        print('File ' + fileName + ' not found.')  \n",
    "                                                   \n",
    "        \n",
    "fileLen('Filelength.txt')\n",
    "\n",
    "fileLen('Filelengt.txt')"
   ]
  },
  {
   "cell_type": "markdown",
   "id": "3d4bb184",
   "metadata": {},
   "source": [
    "# Question 3:"
   ]
  },
  {
   "cell_type": "code",
   "execution_count": 3,
   "id": "54673ec5",
   "metadata": {},
   "outputs": [
    {
     "name": "stdout",
     "output_type": "stream",
     "text": [
      "I am a Kangaroo located at co-ordinates (0,0)\n",
      "['ball', 'gloves', 'bat']\n",
      "I am a Kangaroo located at co-ordinates (3,0)\n"
     ]
    }
   ],
   "source": [
    "class Marsupial:\n",
    "    \n",
    "    def __init__(self):\n",
    "        \n",
    "        self.Lst = []\n",
    "        \n",
    "    def put_in_pocket(self,item):\n",
    "        \n",
    "        self.Lst.append(item)\n",
    "        \n",
    "    def pocket_contents(self):\n",
    "         \n",
    "        return self.Lst\n",
    "\n",
    "class Kangaroo(Marsupial):\n",
    "    \n",
    "    def __init__(self,x,y):\n",
    "        \n",
    "        Marsupial.__init__(self)\n",
    "        \n",
    "        self.x = x\n",
    "        \n",
    "        self.y = y\n",
    "        \n",
    "    def jump(self,dx,dy):\n",
    "        \n",
    "        self.x += dx\n",
    "        \n",
    "        self.y += dy\n",
    "        \n",
    "    def __str__(self):\n",
    "        \n",
    "        return 'I am a Kangaroo located at co-ordinates ({},{})'.format(self.x,self.y)\n",
    "    \n",
    "    \n",
    "r = Marsupial()\n",
    "\n",
    "r.put_in_pocket('ball')\n",
    "\n",
    "r.put_in_pocket('gloves')\n",
    "\n",
    "r.put_in_pocket('bat')\n",
    "\n",
    "r.pocket_contents()\n",
    "\n",
    "k = Kangaroo(0,0)\n",
    "\n",
    "print(k)\n",
    "\n",
    "k.put_in_pocket('ball')\n",
    "\n",
    "k.put_in_pocket('gloves')\n",
    "\n",
    "k.put_in_pocket('bat')\n",
    "\n",
    "a=k.pocket_contents()\n",
    "\n",
    "print(a)\n",
    "\n",
    "k.jump(1,0)\n",
    "\n",
    "k.jump(1,0)\n",
    "\n",
    "k.jump(1,0)\n",
    "\n",
    "print(k)"
   ]
  },
  {
   "cell_type": "markdown",
   "id": "98b14208",
   "metadata": {},
   "source": [
    "# Question 4:"
   ]
  },
  {
   "cell_type": "code",
   "execution_count": 4,
   "id": "3b5a1f5f",
   "metadata": {},
   "outputs": [
    {
     "name": "stdout",
     "output_type": "stream",
     "text": [
      "1\n"
     ]
    }
   ],
   "source": [
    "def collatz(x):\n",
    "    print(int(x))\n",
    "    if x%2==0 and x!=1:\n",
    "        x=x/2\n",
    "        collatz(x)\n",
    "    else:\n",
    "         if x!=1:\n",
    "            x=3*x+1\n",
    "            collatz(x)\n",
    "\n",
    "collatz(1)"
   ]
  },
  {
   "cell_type": "code",
   "execution_count": 5,
   "id": "81376c45",
   "metadata": {},
   "outputs": [
    {
     "name": "stdout",
     "output_type": "stream",
     "text": [
      "10\n",
      "5\n",
      "16\n",
      "8\n",
      "4\n",
      "2\n",
      "1\n"
     ]
    }
   ],
   "source": [
    "collatz(10)"
   ]
  },
  {
   "cell_type": "markdown",
   "id": "e513ade8",
   "metadata": {},
   "source": [
    "# Question 5:"
   ]
  },
  {
   "cell_type": "code",
   "execution_count": 6,
   "id": "efadc306",
   "metadata": {},
   "outputs": [
    {
     "name": "stdout",
     "output_type": "stream",
     "text": [
      "Enter the number: 3\n",
      "11"
     ]
    }
   ],
   "source": [
    "def binary(n):\n",
    "    \n",
    "    if n == 0:\n",
    "        \n",
    "        return 0\n",
    "    \n",
    "    else:\n",
    "        \n",
    "        binary(n//2)\n",
    "        \n",
    "    print(n % 2,end = '')\n",
    "\n",
    "N = int(input(\"Enter the number: \"))\n",
    "\n",
    "binary(N)"
   ]
  },
  {
   "cell_type": "markdown",
   "id": "475a76cc",
   "metadata": {},
   "source": [
    "# Question 6:"
   ]
  },
  {
   "cell_type": "code",
   "execution_count": 7,
   "id": "96eb6f7e",
   "metadata": {},
   "outputs": [],
   "source": [
    "from html.parser import HTMLParser\n",
    "\n",
    "class HeadingParser(HTMLParser):\n",
    "    \n",
    "    Headers = [\"h1\", \"h2\"]\n",
    "    \n",
    "    current = -1\n",
    "\n",
    "    def handle_starttag(self, tag, attrs):\n",
    "        \n",
    "        if tag in HeadingParser.Headers:\n",
    "            \n",
    "            HeadingParser.current = HeadingParser.Headers.index(tag)\n",
    "    \n",
    "    def handle_endtag(self, tag):\n",
    "        \n",
    "        if tag == HeadingParser.Headers[HeadingParser.current]:\n",
    "            \n",
    "            HeadingParser.current = -1\n",
    "            \n",
    "    def handle_data(self, data):\n",
    "        \n",
    "        if HeadingParser.current >= 0:\n",
    "            \n",
    "            print(\" \" * HeadingParser.current + data)"
   ]
  },
  {
   "cell_type": "code",
   "execution_count": 8,
   "id": "73a4f72a",
   "metadata": {},
   "outputs": [
    {
     "name": "stdout",
     "output_type": "stream",
     "text": [
      "W3C Mission\n",
      " Principles\n"
     ]
    }
   ],
   "source": [
    "infile = open(\"w3c.html\",\"r\")\n",
    "\n",
    "content = infile.read()\n",
    "\n",
    "infile.close()\n",
    "\n",
    "hp = HeadingParser()\n",
    "\n",
    "hp.feed(content)"
   ]
  },
  {
   "cell_type": "markdown",
   "id": "3d0a1e3f",
   "metadata": {},
   "source": [
    "# Question 7:"
   ]
  },
  {
   "cell_type": "code",
   "execution_count": 9,
   "id": "685251b0",
   "metadata": {},
   "outputs": [
    {
     "name": "stdout",
     "output_type": "stream",
     "text": [
      " http://reed.cs.depaul.edu/lperkovic/test1.html\n",
      " http://reed.cs.depaul.edu/lperkovic/test2.html\n",
      "  http://reed.cs.depaul.edu/lperkovic/test2.html\n"
     ]
    }
   ],
   "source": [
    "from urllib.request import urlopen\n",
    "\n",
    "from urllib.parse import urljoin\n",
    "\n",
    "from html.parser import HTMLParser\n",
    "\n",
    "class Collector(HTMLParser):\n",
    "\n",
    "    def __init__(self, url):\n",
    "        \n",
    "      \n",
    "        HTMLParser.__init__(self)\n",
    "        \n",
    "        self.url = url\n",
    "        \n",
    "        self.links = []\n",
    "\n",
    "\n",
    "    def handle_starttag(self, tag, attrs):\n",
    "        \n",
    "        if tag == 'a':\n",
    "            \n",
    "            for attr in attrs:\n",
    "                \n",
    "                if attr[0] == 'href':\n",
    "                    \n",
    "                    absolute = urljoin(self.url, attr[1])\n",
    "                    \n",
    "                    if absolute[:4] == 'http':\n",
    "                        \n",
    "                        self.links.append(absolute)\n",
    "\n",
    "    def getLinks(self):\n",
    "        \n",
    "        return self.links\n",
    "\n",
    "\n",
    "allLinks = []\n",
    "    \n",
    "def webdir(url,depth,indent):\n",
    "    \n",
    "        global allLinks\n",
    "        \n",
    "        print(indent*\" \" + url)\n",
    "        \n",
    "        if depth == 0:\n",
    "            \n",
    "            return\n",
    "        \n",
    "        for i in allLinks:\n",
    "            \n",
    "            webdir(i, depth-1, indent+1)    \n",
    "\n",
    "\n",
    "url = ' http://reed.cs.depaul.edu/lperkovic/test1.html'\n",
    "\n",
    "resource = urlopen(url)\n",
    "\n",
    "content = resource.read().decode()\n",
    "\n",
    "collector = Collector(url)\n",
    "\n",
    "collector.feed(content)\n",
    "\n",
    "allLinks = collector.getLinks()\n",
    "\n",
    "\n",
    "webdir(url,2,0)"
   ]
  },
  {
   "cell_type": "markdown",
   "id": "75198301",
   "metadata": {},
   "source": [
    "# Question 8:"
   ]
  },
  {
   "cell_type": "code",
   "execution_count": 32,
   "id": "bb1f0104",
   "metadata": {},
   "outputs": [
    {
     "data": {
      "text/plain": [
       "<sqlite3.Cursor at 0x7f7cd007d3b0>"
      ]
     },
     "execution_count": 32,
     "metadata": {},
     "output_type": "execute_result"
    }
   ],
   "source": [
    "import sqlite3\n",
    "\n",
    "con = sqlite3.connect('weatherreport.db')\n",
    "\n",
    "cur = con.cursor()\n",
    "\n",
    "cur.execute(\"CREATE TABLE Report (City text, Country text, Season text,Temperature float,Rainfall float)\")\n",
    "\n",
    "cur.execute(\"INSERT INTO Report VALUES ('Mumbai', 'India', 'Winter',24.8,5.9)\")\n",
    "\n",
    "cur.execute(\"INSERT INTO Report VALUES ('Mumbai', 'India', 'Spring',28.4,16.2)\")\n",
    "\n",
    "cur.execute(\"INSERT INTO Report VALUES ('Mumbai', 'India', 'Summer',27.9,1549.4 )\")\n",
    "\n",
    "cur.execute(\"INSERT INTO Report VALUES ('Mumbai', 'India', 'Fall',27.6,346.0)\")\n",
    "\n",
    "cur.execute(\"INSERT INTO Report VALUES ('London', 'United Kingdom', 'Winter',4.2,207.7 )\")\n",
    "\n",
    "cur.execute(\"INSERT INTO Report VALUES ('London', 'United Kingdom', 'Spring',8.3,169.6)\")\n",
    "\n",
    "cur.execute(\"INSERT INTO Report VALUES ('London', 'United Kingdom', 'Summer',15.7,157.0)\")\n",
    "\n",
    "cur.execute(\"INSERT INTO Report VALUES ('London', 'United Kingdom', 'Fall',10.4,218.5)\")\n",
    "\n",
    "cur.execute(\"INSERT INTO Report VALUES ('Cairo', 'Egypt', 'Winter',13.6,16.5)\")\n",
    "\n",
    "cur.execute(\"INSERT INTO Report VALUES ('Cairo', 'Egypt', 'Spring',20.7,6.5)\")\n",
    "\n",
    "cur.execute(\"INSERT INTO Report VALUES ('Cairo', 'Egypt', 'Summer',27.7,0.1)\")\n",
    "\n",
    "cur.execute(\"INSERT INTO Report VALUES ('Cairo', 'Egypt', 'Fall',22.2,4.5)\")"
   ]
  },
  {
   "cell_type": "code",
   "execution_count": 33,
   "id": "78bf3d0f",
   "metadata": {},
   "outputs": [
    {
     "data": {
      "text/plain": [
       "[(24.8,),\n",
       " (28.4,),\n",
       " (27.9,),\n",
       " (27.6,),\n",
       " (4.2,),\n",
       " (8.3,),\n",
       " (15.7,),\n",
       " (10.4,),\n",
       " (13.6,),\n",
       " (20.7,),\n",
       " (27.7,),\n",
       " (22.2,)]"
      ]
     },
     "execution_count": 33,
     "metadata": {},
     "output_type": "execute_result"
    }
   ],
   "source": [
    "#a\n",
    "\n",
    "cur.execute('SELECT temperature FROM Report')\n",
    "\n",
    "cur.fetchall()"
   ]
  },
  {
   "cell_type": "code",
   "execution_count": 34,
   "id": "c66ccfb1",
   "metadata": {},
   "outputs": [
    {
     "data": {
      "text/plain": [
       "[('Mumbai',), ('London',), ('Cairo',)]"
      ]
     },
     "execution_count": 34,
     "metadata": {},
     "output_type": "execute_result"
    }
   ],
   "source": [
    "#b\n",
    "\n",
    "cur.execute('SELECT DISTINCT City FROM Report')\n",
    "\n",
    "cur.fetchall()"
   ]
  },
  {
   "cell_type": "code",
   "execution_count": 35,
   "id": "ecaf5231",
   "metadata": {},
   "outputs": [
    {
     "data": {
      "text/plain": [
       "[('Mumbai', 'India', 'Winter', 24.8, 5.9),\n",
       " ('Mumbai', 'India', 'Spring', 28.4, 16.2),\n",
       " ('Mumbai', 'India', 'Summer', 27.9, 1549.4),\n",
       " ('Mumbai', 'India', 'Fall', 27.6, 346.0)]"
      ]
     },
     "execution_count": 35,
     "metadata": {},
     "output_type": "execute_result"
    }
   ],
   "source": [
    "#c\n",
    "\n",
    "cur.execute(\"SELECT * FROM Report WHERE Country='India'\")\n",
    "\n",
    "cur.fetchall()"
   ]
  },
  {
   "cell_type": "code",
   "execution_count": 36,
   "id": "fbba8790",
   "metadata": {},
   "outputs": [
    {
     "data": {
      "text/plain": [
       "[('Mumbai', 'India', 'Fall', 27.6, 346.0),\n",
       " ('London', 'United Kingdom', 'Fall', 10.4, 218.5),\n",
       " ('Cairo', 'Egypt', 'Fall', 22.2, 4.5)]"
      ]
     },
     "execution_count": 36,
     "metadata": {},
     "output_type": "execute_result"
    }
   ],
   "source": [
    "#d\n",
    "\n",
    "cur.execute(\"SELECT * FROM Report WHERE Season='Fall'\")\n",
    "\n",
    "cur.fetchall()"
   ]
  },
  {
   "cell_type": "code",
   "execution_count": 37,
   "id": "cca6dc45",
   "metadata": {},
   "outputs": [
    {
     "data": {
      "text/plain": [
       "[('Mumbai', 'India', 'Fall'),\n",
       " ('London', 'United Kingdom', 'Winter'),\n",
       " ('London', 'United Kingdom', 'Fall')]"
      ]
     },
     "execution_count": 37,
     "metadata": {},
     "output_type": "execute_result"
    }
   ],
   "source": [
    "#e\n",
    "\n",
    "cur.execute(\"SELECT City,country,Season FROM Report WHERE Rainfall BETWEEN 200 AND 400\")\n",
    "\n",
    "cur.fetchall()"
   ]
  },
  {
   "cell_type": "code",
   "execution_count": 38,
   "id": "3d300e3e",
   "metadata": {},
   "outputs": [
    {
     "data": {
      "text/plain": [
       "[('Cairo', 'Egypt'), ('Mumbai', 'India')]"
      ]
     },
     "execution_count": 38,
     "metadata": {},
     "output_type": "execute_result"
    }
   ],
   "source": [
    "#f\n",
    "\n",
    "cur.execute(\"SELECT City,country FROM Report WHERE Season='Fall' AND temperature > 20 ORDER BY temperature ASC\")\n",
    "\n",
    "cur.fetchall()"
   ]
  },
  {
   "cell_type": "code",
   "execution_count": 39,
   "id": "cc79d4a1",
   "metadata": {},
   "outputs": [
    {
     "data": {
      "text/plain": [
       "[(27.6,)]"
      ]
     },
     "execution_count": 39,
     "metadata": {},
     "output_type": "execute_result"
    }
   ],
   "source": [
    "#g\n",
    "\n",
    "cur.execute(\"SELECT SUM(Rainfall) FROM Report WHERE City='Cairo'\")\n",
    "\n",
    "cur.fetchall()"
   ]
  },
  {
   "cell_type": "code",
   "execution_count": 40,
   "id": "6f0e931d",
   "metadata": {},
   "outputs": [
    {
     "data": {
      "text/plain": [
       "[('Fall', 569.0),\n",
       " ('Spring', 192.29999999999998),\n",
       " ('Summer', 1706.5),\n",
       " ('Winter', 230.1)]"
      ]
     },
     "execution_count": 40,
     "metadata": {},
     "output_type": "execute_result"
    }
   ],
   "source": [
    "#h\n",
    "\n",
    "cur.execute(\"SELECT Season, SUM(Rainfall) FROM Report GROUP BY Season\")\n",
    "\n",
    "cur.fetchall()"
   ]
  },
  {
   "cell_type": "markdown",
   "id": "ff245885",
   "metadata": {},
   "source": [
    "# Question 9:"
   ]
  },
  {
   "cell_type": "code",
   "execution_count": 24,
   "id": "fe003ab0",
   "metadata": {},
   "outputs": [],
   "source": [
    "words = ['The', 'quick', 'brown', 'fox', 'jumps', 'over','the', 'lazy', 'dog']"
   ]
  },
  {
   "cell_type": "code",
   "execution_count": 25,
   "id": "e6253a4d",
   "metadata": {},
   "outputs": [
    {
     "name": "stdout",
     "output_type": "stream",
     "text": [
      "['THE', 'QUICK', 'BROWN', 'FOX', 'JUMPS', 'OVER', 'THE', 'LAZY', 'DOG']\n"
     ]
    }
   ],
   "source": [
    "#a\n",
    "\n",
    "A = [elements.upper() for elements in words]\n",
    "\n",
    "print (A)"
   ]
  },
  {
   "cell_type": "code",
   "execution_count": 26,
   "id": "3435ebac",
   "metadata": {},
   "outputs": [
    {
     "name": "stdout",
     "output_type": "stream",
     "text": [
      "['the', 'quick', 'brown', 'fox', 'jumps', 'over', 'the', 'lazy', 'dog']\n"
     ]
    }
   ],
   "source": [
    "#b\n",
    "\n",
    "B = [elements.lower() for elements in words]\n",
    "\n",
    "print(B)"
   ]
  },
  {
   "cell_type": "code",
   "execution_count": 27,
   "id": "18912c23",
   "metadata": {},
   "outputs": [
    {
     "name": "stdout",
     "output_type": "stream",
     "text": [
      "[3, 5, 5, 3, 5, 4, 3, 4, 3]\n"
     ]
    }
   ],
   "source": [
    "#c\n",
    "\n",
    "C = [len(elements) for elements in words]\n",
    "\n",
    "print(C)"
   ]
  },
  {
   "cell_type": "code",
   "execution_count": 28,
   "id": "bbb1fc29",
   "metadata": {},
   "outputs": [
    {
     "name": "stdout",
     "output_type": "stream",
     "text": [
      "[['THE', 'the', 3], ['QUICK', 'quick', 5], ['BROWN', 'brown', 5], ['FOX', 'fox', 3], ['JUMPS', 'jumps', 5], ['OVER', 'over', 4], ['THE', 'the', 3], ['LAZY', 'lazy', 4], ['DOG', 'dog', 3]]\n"
     ]
    }
   ],
   "source": [
    "#d\n",
    "\n",
    "D = [[elements.upper(),elements.lower(),len(elements)] for elements in words]\n",
    "\n",
    "print(D)"
   ]
  },
  {
   "cell_type": "code",
   "execution_count": 29,
   "id": "c311e770",
   "metadata": {},
   "outputs": [
    {
     "name": "stdout",
     "output_type": "stream",
     "text": [
      "['quick', 'brown', 'jumps', 'over', 'lazy']\n"
     ]
    }
   ],
   "source": [
    "#e\n",
    "\n",
    "E = [elements for elements in words if len(elements)>=4]\n",
    "\n",
    "print(E)"
   ]
  }
 ],
 "metadata": {
  "kernelspec": {
   "display_name": "Python 3 (ipykernel)",
   "language": "python",
   "name": "python3"
  },
  "language_info": {
   "codemirror_mode": {
    "name": "ipython",
    "version": 3
   },
   "file_extension": ".py",
   "mimetype": "text/x-python",
   "name": "python",
   "nbconvert_exporter": "python",
   "pygments_lexer": "ipython3",
   "version": "3.9.7"
  }
 },
 "nbformat": 4,
 "nbformat_minor": 5
}
